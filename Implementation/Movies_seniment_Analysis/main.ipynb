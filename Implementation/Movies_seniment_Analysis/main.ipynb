{
  "cells": [
    {
      "cell_type": "markdown",
      "metadata": {},
      "source": [
        "# Movies Sentiment Analysis \n"
      ]
    },
    {
      "cell_type": "markdown",
      "metadata": {},
      "source": [
        "### Import necessary Libraries\n"
      ]
    },
    {
      "cell_type": "code",
      "execution_count": 1,
      "metadata": {},
      "outputs": [],
      "source": [
        "\n",
        "import os\n",
        "import re\n",
        "import nltk\n",
        "import numpy as np\n",
        "import matplotlib.pyplot as plt\n",
        "import seaborn as sns\n",
        "from nltk.corpus import stopwords\n",
        "from nltk.stem import PorterStemmer, WordNetLemmatizer\n",
        "from sklearn.feature_extraction.text import TfidfVectorizer\n",
        "from sklearn.model_selection import train_test_split\n",
        "from sklearn.linear_model import LogisticRegression\n",
        "from sklearn.svm import SVC \n",
        "from sklearn.metrics import confusion_matrix, classification_report, accuracy_score\n"
      ]
    },
    {
      "cell_type": "markdown",
      "metadata": {},
      "source": [
        "### Step 1: Download NLTK stopwords data"
      ]
    },
    {
      "cell_type": "code",
      "execution_count": 2,
      "metadata": {},
      "outputs": [
        {
          "name": "stderr",
          "output_type": "stream",
          "text": [
            "[nltk_data] Downloading package stopwords to\n",
            "[nltk_data]     C:\\Users\\yassa\\AppData\\Roaming\\nltk_data...\n",
            "[nltk_data]   Package stopwords is already up-to-date!\n",
            "[nltk_data] Downloading package punkt to\n",
            "[nltk_data]     C:\\Users\\yassa\\AppData\\Roaming\\nltk_data...\n",
            "[nltk_data]   Package punkt is already up-to-date!\n",
            "[nltk_data] Downloading package wordnet to\n",
            "[nltk_data]     C:\\Users\\yassa\\AppData\\Roaming\\nltk_data...\n",
            "[nltk_data]   Package wordnet is already up-to-date!\n"
          ]
        },
        {
          "data": {
            "text/plain": [
              "True"
            ]
          },
          "execution_count": 2,
          "metadata": {},
          "output_type": "execute_result"
        }
      ],
      "source": [
        "# Download NLTK stopwords data\n",
        "nltk.download('stopwords')\n",
        "nltk.download('punkt')\n",
        "nltk.download('wordnet')"
      ]
    },
    {
      "cell_type": "markdown",
      "metadata": {},
      "source": [
        "### Step 2: Read the data"
      ]
    },
    {
      "cell_type": "code",
      "execution_count": 3,
      "metadata": {},
      "outputs": [],
      "source": [
        "\n",
        "# Step 2: Read the data\n",
        "def read_data(folder):\n",
        "    texts = []\n",
        "    labels = []\n",
        "    for file in os.listdir(folder):\n",
        "        with open(os.path.join(folder, file), 'r', encoding='utf-8') as f:\n",
        "            text = f.read()\n",
        "            texts.append(text)\n",
        "            labels.append(1 if folder == 'positive' else 0)\n",
        "    return texts, labels\n"
      ]
    },
    {
      "cell_type": "markdown",
      "metadata": {},
      "source": [
        "### Step 3: Preprocess the text data"
      ]
    },
    {
      "cell_type": "code",
      "execution_count": 4,
      "metadata": {},
      "outputs": [],
      "source": [
        "\n",
        "# Initialize stemmer and lemmatizer\n",
        "stemmer = PorterStemmer()\n",
        "lemmatizer = WordNetLemmatizer()\n",
        "\n",
        "def preprocess_text(text):\n",
        "    # Convert text to lowercase\n",
        "    text = text.lower()\n",
        "\n",
        "    # Remove special characters and digits\n",
        "    text = re.sub(r'[^a-zA-Z\\s]', '', text)\n",
        "\n",
        "    # Tokenization (split text into words) before stemming\n",
        "    tokens = nltk.word_tokenize(text)\n",
        "\n",
        "    # Apply lemmatization\n",
        "    tokens = [lemmatizer.lemmatize(word) for word in tokens]\n",
        "\n",
        "    # Apply stemming after lemmatization\n",
        "    tokens = [stemmer.stem(word) for word in tokens]\n",
        "\n",
        "    # Remove stopwords\n",
        "    stop_words = set(stopwords.words('english'))\n",
        "    tokens = [token for token in tokens if token not in stop_words]\n",
        "\n",
        "    # Join tokens back into a string\n",
        "    preprocessed_text = ' '.join(tokens)\n",
        "\n",
        "    return preprocessed_text"
      ]
    },
    {
      "cell_type": "markdown",
      "metadata": {},
      "source": [
        "### Step 4: Apply TF-IDF Vectorization and train a classifier"
      ]
    },
    {
      "cell_type": "code",
      "execution_count": 5,
      "metadata": {},
      "outputs": [],
      "source": [
        "\n",
        "# Step 4: Apply TF-IDF Vectorization and train a classifier\n",
        "def train_classifier(pos_folder, neg_folder):\n",
        "    # Read the data\n",
        "    pos_texts, pos_labels = read_data(pos_folder)\n",
        "    neg_texts, neg_labels = read_data(neg_folder)\n",
        "    all_texts = pos_texts + neg_texts\n",
        "    all_labels = pos_labels + neg_labels\n",
        "\n",
        "    # Print #numbers of pos and neg samples\n",
        "    print(\"Number of positive samples:\", len(pos_texts))\n",
        "    print(\"Number of negative samples:\", len(neg_texts))\n",
        "\n",
        "    # Preprocess all texts\n",
        "    preprocessed_texts = [preprocess_text(text) for text in all_texts]\n",
        "\n",
        "    # Initialize TfidfVectorizer\n",
        "    tfidf_vectorizer = TfidfVectorizer()\n",
        "\n",
        "    # Fit and transform the preprocessed data\n",
        "    tfidf_matrix = tfidf_vectorizer.fit_transform(preprocessed_texts)\n",
        "    print(\"TF-IDF Matrix shape: \", tfidf_matrix.shape)\n",
        "\n",
        "    # Split the data into training and testing sets\n",
        "    X_train, X_test, y_train, y_test = train_test_split(tfidf_matrix, all_labels, test_size=0.2, random_state=42)\n",
        "\n",
        "    # Initialize and train the Logistic Regression classifier\n",
        "    lr_classifier = LogisticRegression()\n",
        "    lr_classifier.fit(X_train, y_train)\n",
        "\n",
        "    # Predict on the test set with Logistic Regression\n",
        "    y_pred_lr = lr_classifier.predict(X_test)\n",
        "\n",
        "    # Evaluate the Logistic Regression classifier\n",
        "    accuracy_lr = accuracy_score(y_test, y_pred_lr)\n",
        "    report_lr = classification_report(y_test, y_pred_lr)\n",
        "    conf_matrix_lr = confusion_matrix(y_test, y_pred_lr)\n",
        "\n",
        "    # Initialize and train the SVM classifier\n",
        "    svm_classifier = SVC(kernel='linear')\n",
        "    svm_classifier.fit(X_train, y_train)\n",
        "\n",
        "    # Predict on the test set with SVM\n",
        "    y_pred_svm = svm_classifier.predict(X_test)\n",
        "\n",
        "    # Evaluate the SVM classifier\n",
        "    accuracy_svm = accuracy_score(y_test, y_pred_svm)\n",
        "    report_svm = classification_report(y_test, y_pred_svm)\n",
        "    conf_matrix_svm = confusion_matrix(y_test, y_pred_svm)\n",
        "\n",
        "    return lr_classifier, accuracy_lr, report_lr, conf_matrix_lr, svm_classifier, accuracy_svm, report_svm, conf_matrix_svm\n"
      ]
    },
    {
      "cell_type": "markdown",
      "metadata": {},
      "source": [
        "### Visualize Results"
      ]
    },
    {
      "cell_type": "code",
      "execution_count": 6,
      "metadata": {},
      "outputs": [],
      "source": [
        "\n",
        "\n",
        "# Visualize confusion matrix\n",
        "def visualize_confusion_matrix(conf_matrix, classifier_type):\n",
        "    labels = ['Negative', 'Positive']\n",
        "    sns.heatmap(conf_matrix, annot=True, fmt=\"d\", cmap=\"Blues\", xticklabels=labels, yticklabels=labels)\n",
        "    plt.xlabel('Predicted Label')\n",
        "    plt.ylabel('True Label')\n",
        "    if classifier_type == \"Logistic Regression\":\n",
        "        plt.title('Confusion Matrix for Logistic Regression')\n",
        "    elif classifier_type == \"SVM\":\n",
        "        plt.title('Confusion Matrix for SVM')\n",
        "    plt.show()\n",
        "\n"
      ]
    },
    {
      "cell_type": "code",
      "execution_count": 7,
      "metadata": {},
      "outputs": [
        {
          "name": "stdout",
          "output_type": "stream",
          "text": [
            "Number of positive samples: 1000\n",
            "Number of negative samples: 1000\n",
            "TF-IDF Matrix shape:  (2000, 31079)\n"
          ]
        }
      ],
      "source": [
        "\n",
        "pos_folder = \"positive\"\n",
        "neg_folder = \"negative\"\n",
        "lr_classifier, accuracy_lr, report_lr, conf_matrix_lr, svm_classifier, accuracy_svm, report_svm, conf_matrix_svm = train_classifier(pos_folder, neg_folder)\n"
      ]
    },
    {
      "cell_type": "markdown",
      "metadata": {},
      "source": [
        "### Logistic Regression Classifier"
      ]
    },
    {
      "cell_type": "code",
      "execution_count": 14,
      "metadata": {},
      "outputs": [
        {
          "name": "stdout",
          "output_type": "stream",
          "text": [
            "Logistic Regression Classifier Accuracy: 0.81\n",
            "Classification Report (Logistic Regression):\n",
            "              precision    recall  f1-score   support\n",
            "\n",
            "           0       0.82      0.80      0.81       201\n",
            "           1       0.80      0.82      0.81       199\n",
            "\n",
            "    accuracy                           0.81       400\n",
            "   macro avg       0.81      0.81      0.81       400\n",
            "weighted avg       0.81      0.81      0.81       400\n",
            "\n"
          ]
        }
      ],
      "source": [
        "\n",
        "print(\"Logistic Regression Classifier Accuracy:\", accuracy_lr)\n",
        "print(\"Classification Report (Logistic Regression):\")\n",
        "print(report_lr)\n"
      ]
    },
    {
      "cell_type": "markdown",
      "metadata": {},
      "source": [
        "### SVM Classifier"
      ]
    },
    {
      "cell_type": "code",
      "execution_count": 13,
      "metadata": {},
      "outputs": [
        {
          "name": "stdout",
          "output_type": "stream",
          "text": [
            "\n",
            "Support Vector Machine Classifier Accuracy: 0.8325\n",
            "Classification Report (Support Vector Machine):\n",
            "              precision    recall  f1-score   support\n",
            "\n",
            "           0       0.84      0.82      0.83       201\n",
            "           1       0.82      0.84      0.83       199\n",
            "\n",
            "    accuracy                           0.83       400\n",
            "   macro avg       0.83      0.83      0.83       400\n",
            "weighted avg       0.83      0.83      0.83       400\n",
            "\n"
          ]
        }
      ],
      "source": [
        "\n",
        "print(\"\\nSupport Vector Machine Classifier Accuracy:\", accuracy_svm)\n",
        "print(\"Classification Report (Support Vector Machine):\")\n",
        "print(report_svm)\n"
      ]
    },
    {
      "cell_type": "code",
      "execution_count": 12,
      "metadata": {},
      "outputs": [
        {
          "name": "stdout",
          "output_type": "stream",
          "text": [
            "\n",
            "Confusion Matrix (Logistic Regression):\n"
          ]
        },
        {
          "data": {
            "image/png": "[encoded data removed]",
            "text/plain": [
              "<Figure size 640x480 with 2 Axes>"
            ]
          },
          "metadata": {},
          "output_type": "display_data"
        }
      ],
      "source": [
        "\n",
        "# Visualize the confusion matrix for Logistic Regression\n",
        "print(\"\\nConfusion Matrix (Logistic Regression):\")\n",
        "visualize_confusion_matrix(conf_matrix_lr, \"Logistic Regression\")\n"
      ]
    },
    {
      "cell_type": "code",
      "execution_count": 11,
      "metadata": {},
      "outputs": [
        {
          "name": "stdout",
          "output_type": "stream",
          "text": [
            "\n",
            "Confusion Matrix (Support Vector Machine):\n"
          ]
        },
        {
          "data": {
            "image/png": "[encoded data removed]",
            "text/plain": [
              "<Figure size 640x480 with 2 Axes>"
            ]
          },
          "metadata": {},
          "output_type": "display_data"
        }
      ],
      "source": [
        "\n",
        "# Visualize the confusion matrix for SVM\n",
        "print(\"\\nConfusion Matrix (Support Vector Machine):\")\n",
        "visualize_confusion_matrix(conf_matrix_svm, \"SVM\")"
      ]
    },
    {
      "cell_type": "markdown",
      "metadata": {},
      "source": [
        "\n",
        "# Thank you"
      ]
    }
  ],
  "metadata": {
    "anaconda-cloud": {},
    "kernelspec": {
      "display_name": "Python 3",
      "language": "python",
      "name": "python3"
    },
    "language_info": {
      "codemirror_mode": {
        "name": "ipython",
        "version": 3
      },
      "file_extension": ".py",
      "mimetype": "text/x-python",
      "name": "python",
      "nbconvert_exporter": "python",
      "pygments_lexer": "ipython3",
      "version": "3.11.4"
    }
  },
  "nbformat": 4,
  "nbformat_minor": 4
}
